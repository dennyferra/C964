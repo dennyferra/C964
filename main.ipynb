{
 "cells": [
  {
   "cell_type": "code",
   "execution_count": 1,
   "id": "6d5b327b-f14a-437a-a23a-400eebfed155",
   "metadata": {},
   "outputs": [],
   "source": [
    "import numpy as np\n",
    "import pandas as pd\n",
    "import seaborn as sns\n",
    "\n",
    "from math import sqrt\n",
    "from matplotlib import pyplot as plt\n",
    "from lightgbm import LGBMClassifier,LGBMRegressor\n",
    "from sklearn.model_selection import train_test_split\n",
    "from sklearn.metrics import mean_squared_error\n",
    "from sklearn.metrics import r2_score\n",
    "from ipywidgets import widgets\n",
    "\n",
    "pd.options.mode.chained_assignment = None  # default='warn'\n",
    "pd.set_option('display.max_columns', None)\n",
    "\n",
    "# ignore future warnings\n",
    "import warnings\n",
    "warnings.filterwarnings(\"ignore\")\n",
    "warnings.simplefilter(action='ignore', category=FutureWarning)\n",
    "with warnings.catch_warnings():\n",
    "    warnings.simplefilter(action='ignore', category=pd.errors.PerformanceWarning)"
   ]
  },
  {
   "cell_type": "code",
   "execution_count": 2,
   "id": "5d555ead-c856-43da-a4b3-0fe86894f688",
   "metadata": {},
   "outputs": [],
   "source": [
    "train_df = pd.read_csv(\"train.csv\")\n",
    "train_df.replace(\"NaN\",np.nan,regex=True,inplace=True)\n",
    "test_df = pd.read_csv(\"test.csv\")\n",
    "test_df.replace(\"NaN\",np.nan,regex=True,inplace=True)\n",
    "\n",
    "train_df.drop(columns=['ID', 'Delivery_person_ID', 'City',\n",
    "                       'Delivery_person_Age',\n",
    "                       #'Delivery_person_Ratings',\n",
    "                       #'Vehicle_condition',\n",
    "                      'Type_of_order',\n",
    "                       #'Type_of_vehicle',\n",
    "                       #'multiple_deliveries'\n",
    "                       'Festival'], axis=1, inplace=True)\n",
    "test_df.drop(columns=['ID', 'Delivery_person_ID', 'City',\n",
    "                      'Delivery_person_Age',\n",
    "                      #'Delivery_person_Ratings',\n",
    "                      #'Vehicle_condition',\n",
    "                      'Type_of_order',\n",
    "                      #'Type_of_vehicle',\n",
    "                      #'multiple_deliveries'\n",
    "                      'Festival'], axis=1, inplace=True)\n",
    "\n",
    "# train_df.sample(10)"
   ]
  },
  {
   "cell_type": "code",
   "execution_count": 3,
   "id": "1c3ee664-fd84-499b-8fbc-96b081d3b5e1",
   "metadata": {},
   "outputs": [],
   "source": [
    "# train_df.isna().sum()"
   ]
  },
  {
   "cell_type": "code",
   "execution_count": 4,
   "id": "7cb94974-263b-4d9a-88f6-4e699326d1f0",
   "metadata": {},
   "outputs": [],
   "source": [
    "train_df[\"Order_Date\"] = pd.to_datetime(train_df[\"Order_Date\"], dayfirst=True)\n",
    "test_df[\"Order_Date\"] = pd.to_datetime(test_df[\"Order_Date\"], dayfirst=True)\n",
    "\n",
    "train_df[\"Time_taken(min)\"] = train_df[\"Time_taken(min)\"].apply(lambda x:x.replace(\"(min) \",\"\"))\n",
    "train_df[\"Time_taken(min)\"] = train_df[\"Time_taken(min)\"].astype(\"int\")"
   ]
  },
  {
   "cell_type": "code",
   "execution_count": 5,
   "id": "c6b1bab3-7182-4049-aca9-10862eba12c2",
   "metadata": {},
   "outputs": [],
   "source": [
    "train_df[\"Time_Order_picked\"] = pd.to_timedelta(train_df[\"Time_Order_picked\"])\n",
    "test_df[\"Time_Order_picked\"] = pd.to_timedelta(test_df[\"Time_Order_picked\"])"
   ]
  },
  {
   "cell_type": "code",
   "execution_count": 6,
   "id": "cc74a967-2269-4db9-90ed-c122f22640ec",
   "metadata": {},
   "outputs": [],
   "source": [
    "time_nan = train_df[train_df[\"Time_Orderd\"].isna()]"
   ]
  },
  {
   "cell_type": "code",
   "execution_count": 7,
   "id": "3a7191c1-e670-48b8-be79-aab35511c3f1",
   "metadata": {},
   "outputs": [],
   "source": [
    "for index in (time_nan.index):\n",
    "    train_df.loc[index,[\"Time_Orderd\"]] = train_df.loc[index,\"Time_Order_picked\"] - pd.to_timedelta(train_df.loc[index,\"Time_taken(min)\"],unit=\"m\")"
   ]
  },
  {
   "cell_type": "code",
   "execution_count": 8,
   "id": "6c0c3a0a-cd4b-4fac-95a8-2ca02d82ef87",
   "metadata": {},
   "outputs": [],
   "source": [
    "train_df['multiple_deliveries'].fillna(train_df['multiple_deliveries'].mode()[0], inplace=True)\n",
    "test_df['multiple_deliveries'].fillna(test_df['multiple_deliveries'].mode()[0], inplace=True)\n",
    "\n",
    "train_df['multiple_deliveries'] = train_df['multiple_deliveries'].astype(\"int\")\n",
    "test_df['multiple_deliveries'] = test_df['multiple_deliveries'].astype(\"int\")"
   ]
  },
  {
   "cell_type": "code",
   "execution_count": 9,
   "id": "b74aceb2-d90a-4aba-b052-92fcbb2d93b8",
   "metadata": {},
   "outputs": [],
   "source": [
    "train_df[\"Weatherconditions\"].fillna(train_df[\"Weatherconditions\"].mode()[0],inplace=True)\n",
    "test_df[\"Weatherconditions\"].fillna(test_df[\"Weatherconditions\"].mode()[0],inplace=True)"
   ]
  },
  {
   "cell_type": "code",
   "execution_count": 10,
   "id": "a2617df9-e167-4480-a34b-bd15c112ac96",
   "metadata": {},
   "outputs": [],
   "source": [
    "train_df[\"Road_traffic_density\"].fillna(train_df[\"Road_traffic_density\"].mode()[0],inplace=True)\n",
    "test_df[\"Road_traffic_density\"].fillna(test_df[\"Road_traffic_density\"].mode()[0],inplace=True)"
   ]
  },
  {
   "cell_type": "code",
   "execution_count": 11,
   "id": "959c6554-626f-4316-b09b-44ee8df74ff2",
   "metadata": {},
   "outputs": [],
   "source": [
    "train_df[\"Road_traffic_density\"] = train_df[\"Road_traffic_density\"].replace(\"Low \",0).replace(\"Medium \",1).replace(\"High \",2).replace(\"Jam \",3)\n",
    "test_df[\"Road_traffic_density\"] = test_df[\"Road_traffic_density\"].replace(\"Low \",0).replace(\"Medium \",1).replace(\"High \",2).replace(\"Jam \",3)"
   ]
  },
  {
   "cell_type": "code",
   "execution_count": 12,
   "id": "1b05303f-184a-4e9a-bd87-35427053f330",
   "metadata": {},
   "outputs": [],
   "source": [
    "train_df['Delivery_person_Ratings'] = train_df['Delivery_person_Ratings'].astype(float)\n",
    "test_df['Delivery_person_Ratings'] = test_df['Delivery_person_Ratings'].astype(float)\n",
    "\n",
    "train_df['Delivery_person_Ratings'] = train_df['Delivery_person_Ratings'].fillna(train_df['Delivery_person_Ratings'].mode()[0])\n",
    "test_df['Delivery_person_Ratings'] = test_df['Delivery_person_Ratings'].fillna(test_df['Delivery_person_Ratings'].mode()[0])"
   ]
  },
  {
   "cell_type": "code",
   "execution_count": 13,
   "id": "d91174bc-c75b-48ca-b808-fd0a26777975",
   "metadata": {},
   "outputs": [],
   "source": [
    "# train_df.isna().sum()"
   ]
  },
  {
   "cell_type": "code",
   "execution_count": 14,
   "id": "fbc4e62f-5bd5-4404-b22e-0d76028560bd",
   "metadata": {},
   "outputs": [],
   "source": [
    "train_df['Restaurant_latitude'] = train_df['Restaurant_latitude'].abs()\n",
    "train_df['Restaurant_longitude'] = train_df['Restaurant_longitude'].abs()"
   ]
  },
  {
   "cell_type": "code",
   "execution_count": 15,
   "id": "749b502d-cd84-4c2e-a79e-73e1cc6ef7d2",
   "metadata": {},
   "outputs": [],
   "source": [
    "train_df[\"Type_of_vehicle\"] = train_df[\"Type_of_vehicle\"].str.strip()\n",
    "test_df[\"Type_of_vehicle\"] = test_df[\"Type_of_vehicle\"].str.strip()\n",
    "\n",
    "train_df[\"Type_of_vehicle\"] = train_df[\"Type_of_vehicle\"].replace(\"motorcycle\",0).replace(\"scooter\",1).replace(\"electric_scooter\",2).replace(\"bicycle\",3)\n",
    "test_df[\"Type_of_vehicle\"] = test_df[\"Type_of_vehicle\"].replace(\"motorcycle\",0).replace(\"scooter\",1).replace(\"electric_scooter\",2).replace(\"bicycle\",3)"
   ]
  },
  {
   "cell_type": "code",
   "execution_count": 16,
   "id": "dd285be9-e506-42d8-97e4-28b79815db49",
   "metadata": {},
   "outputs": [],
   "source": [
    "train_df[\"Weatherconditions\"] = train_df[\"Weatherconditions\"].apply(lambda x:x.replace(\"conditions \",\"\"))\n",
    "test_df[\"Weatherconditions\"] = test_df[\"Weatherconditions\"].apply(lambda x:x.replace(\"conditions \",\"\"))\n",
    "\n",
    "train_df[\"Weatherconditions\"] = train_df[\"Weatherconditions\"].replace(\"Sunny\",0).replace(\"Cloudy\",1).replace(\"Windy\",2).replace(\"Fog\",3).replace(\"Stormy\",4).replace(\"Sandstorms\",5)\n",
    "test_df[\"Weatherconditions\"] = test_df[\"Weatherconditions\"].replace(\"Sunny\",0).replace(\"Cloudy\",1).replace(\"Windy\",2).replace(\"Fog\",3).replace(\"Stormy\",4).replace(\"Sandstorms\",5)"
   ]
  },
  {
   "cell_type": "code",
   "execution_count": 17,
   "id": "187e4a98-bd8a-4e60-83f8-5052375cf24d",
   "metadata": {},
   "outputs": [],
   "source": [
    "# train_df.sample(5)"
   ]
  },
  {
   "cell_type": "code",
   "execution_count": 18,
   "id": "43f29495-feab-4457-b4dc-23cdeae0812f",
   "metadata": {},
   "outputs": [],
   "source": [
    "# train_df.describe().T"
   ]
  },
  {
   "cell_type": "code",
   "execution_count": 19,
   "id": "156b992c-df4d-484f-8f25-156d1b309950",
   "metadata": {},
   "outputs": [],
   "source": [
    "# Weatherconditionsdf = train_df.groupby(\"Weatherconditions\")[\"Time_taken(min)\"].mean().to_frame().reset_index()\n",
    "# plt.figure(figsize=(12,6))\n",
    "# fig , ax = plt.subplots(2,1,figsize = (10,10))\n",
    "# ax1=sns.barplot(x=Weatherconditionsdf[\"Weatherconditions\"],y=Weatherconditionsdf[\"Time_taken(min)\"],ax=ax[1])\n",
    "# ax1.set_ylabel(\"Mean of Time_taken(min)\")\n",
    "# ax2 = sns.countplot(x=train_df[\"Weatherconditions\"],palette=\"rocket\",ax=ax[0])\n",
    "# plt.tight_layout()"
   ]
  },
  {
   "cell_type": "code",
   "execution_count": 20,
   "id": "11dfcb73-5b33-4310-a061-a2f7efb836b5",
   "metadata": {},
   "outputs": [],
   "source": [
    "# Road_traffic_densitydf = train_df.groupby(\"Road_traffic_density\")[\"Time_taken(min)\"].mean().to_frame().reset_index()\n",
    "# plt.figure(figsize=(12,6))\n",
    "# fig , ax = plt.subplots(2,1,figsize = (12,8))\n",
    "# ax1=sns.barplot(x=Road_traffic_densitydf[\"Road_traffic_density\"],y=Road_traffic_densitydf[\"Time_taken(min)\"],ax=ax[1])\n",
    "# ax1.set_ylabel(\"Mean of Time_taken(min)\")\n",
    "# ax2 = sns.countplot(x=train_df[\"Road_traffic_density\"],palette=\"magma\",ax=ax[0])\n",
    "# plt.tight_layout()"
   ]
  },
  {
   "cell_type": "code",
   "execution_count": 21,
   "id": "c6985042-51be-4b22-8d67-14c4bf8e5f1a",
   "metadata": {},
   "outputs": [],
   "source": [
    "# plt.figure(figsize=(12,6))\n",
    "# sns.histplot(x=train_df[\"Time_taken(min)\"], kde=True)\n",
    "# plt.tight_layout()"
   ]
  },
  {
   "cell_type": "code",
   "execution_count": 22,
   "id": "ca49cf66-9152-481a-aa29-15e4cbf7446a",
   "metadata": {},
   "outputs": [],
   "source": [
    "train_df.drop([\"Order_Date\"],axis=1,inplace=True)\n",
    "test_df.drop([\"Order_Date\"],axis=1,inplace=True)\n",
    "\n",
    "# train_df.info()"
   ]
  },
  {
   "cell_type": "code",
   "execution_count": 23,
   "id": "207efaf5-fe64-4db4-a01e-6801b4e39344",
   "metadata": {},
   "outputs": [],
   "source": [
    "# train_df.head(10)"
   ]
  },
  {
   "cell_type": "code",
   "execution_count": 24,
   "id": "46007ee7-0d16-4626-8779-f08fdee667ed",
   "metadata": {},
   "outputs": [],
   "source": [
    "# plt.figure(figsize=(12,6))\n",
    "# sns.heatmap(train_df.corr(numeric_only=True),annot=True)\n",
    "# plt.tight_layout()"
   ]
  },
  {
   "cell_type": "code",
   "execution_count": 25,
   "id": "c483a270-42c7-48e5-96de-28b6555e17d1",
   "metadata": {},
   "outputs": [],
   "source": [
    "train_df[\"Time_Order_picked\"] = train_df[\"Time_Order_picked\"].apply(lambda x: x.total_seconds())\n",
    "test_df[\"Time_Order_picked\"] = test_df[\"Time_Order_picked\"].apply(lambda x: x.total_seconds())"
   ]
  },
  {
   "cell_type": "code",
   "execution_count": 26,
   "id": "09d1452e-d33d-4c4c-aac6-ffc6d1584971",
   "metadata": {},
   "outputs": [],
   "source": [
    "train_df[\"Time_Orderd\"] = pd.to_timedelta(train_df[\"Time_Orderd\"])\n",
    "train_df[\"Time_Orderd\"] = train_df[\"Time_Orderd\"].apply(lambda x: x.total_seconds())\n",
    "\n",
    "test_df[\"Time_Orderd\"] = pd.to_timedelta(test_df[\"Time_Orderd\"])\n",
    "test_df[\"Time_Orderd\"] = test_df[\"Time_Orderd\"].apply(lambda x: x.total_seconds())"
   ]
  },
  {
   "cell_type": "code",
   "execution_count": 27,
   "id": "04702adb-c256-4865-a7ab-c87c33e1d34d",
   "metadata": {},
   "outputs": [],
   "source": [
    "# vectorized haversine function\n",
    "def haversine(lat1, lon1, lat2, lon2, to_radians=True, earth_radius=6371):\n",
    "    \"\"\"\n",
    "    slightly modified version: of http://stackoverflow.com/a/29546836/2901002\n",
    "\n",
    "    Calculate the great circle distance between two points\n",
    "    on the earth (specified in decimal degrees or in radians)\n",
    "\n",
    "    All (lat, lon) coordinates must have numeric dtypes and be of equal length.\n",
    "\n",
    "    \"\"\"\n",
    "    if to_radians:\n",
    "        lat1, lon1, lat2, lon2 = np.radians([lat1, lon1, lat2, lon2])\n",
    "\n",
    "    a = np.sin((lat2-lat1)/2.0)**2 + \\\n",
    "        np.cos(lat1) * np.cos(lat2) * np.sin((lon2-lon1)/2.0)**2\n",
    "\n",
    "    return earth_radius * 2 * np.arcsin(np.sqrt(a))\n",
    "\n",
    "\n",
    "train_df['dist'] = \\\n",
    "    haversine(train_df['Restaurant_latitude'], train_df['Restaurant_longitude'],\n",
    "              train_df['Delivery_location_latitude'], train_df['Delivery_location_longitude'])\n",
    "test_df['dist'] = \\\n",
    "    haversine(test_df['Restaurant_latitude'], test_df['Restaurant_longitude'],\n",
    "              test_df['Delivery_location_latitude'], test_df['Delivery_location_longitude'])"
   ]
  },
  {
   "cell_type": "code",
   "execution_count": 28,
   "id": "ca8c0a33-cc13-4d40-9bed-11a4f7c0e2e0",
   "metadata": {},
   "outputs": [],
   "source": [
    "# train_df.sort_values(by=['dist'], ascending=False).head()"
   ]
  },
  {
   "cell_type": "code",
   "execution_count": 29,
   "id": "e9928a55-ca31-434e-a149-31d8682ffa1f",
   "metadata": {},
   "outputs": [],
   "source": [
    "# train_df.sort_values(by=['dist'], ascending=True).head()"
   ]
  },
  {
   "cell_type": "code",
   "execution_count": 30,
   "id": "ba044bcb-4a12-48eb-82a5-decf32890feb",
   "metadata": {},
   "outputs": [],
   "source": [
    "train_df.drop(columns=['Time_Order_picked','Time_Orderd', 'Restaurant_latitude','Restaurant_longitude','Delivery_location_latitude','Delivery_location_longitude'\n",
    "], axis=1, inplace=True)\n",
    "test_df.drop(columns=['Time_Order_picked','Time_Orderd', 'Restaurant_latitude','Restaurant_longitude','Delivery_location_latitude','Delivery_location_longitude'\n",
    "], axis=1, inplace=True)"
   ]
  },
  {
   "cell_type": "code",
   "execution_count": 31,
   "id": "be616c39-77cf-4fe7-b996-077ecbbc1df5",
   "metadata": {},
   "outputs": [],
   "source": [
    "train_df['dist'].sort_values()\n",
    "\n",
    "q_low = train_df[\"dist\"].quantile(0.01)\n",
    "q_hi  = train_df[\"dist\"].quantile(0.99)\n",
    "\n",
    "df_filtered = train_df #[(train_df[\"dist\"] < q_hi) & (train_df[\"dist\"] > q_low)]\n",
    "df_filtered.drop_duplicates(inplace=True)"
   ]
  },
  {
   "cell_type": "code",
   "execution_count": 32,
   "id": "9c411191-ef4d-422e-a3c1-06c5c7e93bd3",
   "metadata": {},
   "outputs": [],
   "source": [
    "# plt.figure(figsize=(12,10))\n",
    "# sns.heatmap(df_filtered.corr(), annot=True)\n",
    "# plt.tight_layout()"
   ]
  },
  {
   "cell_type": "code",
   "execution_count": 33,
   "id": "dabb1d13-8d32-4c3a-a948-dd6f812c1d73",
   "metadata": {},
   "outputs": [],
   "source": [
    "# num_list=[i for i in df_filtered.select_dtypes([\"int64\",\"float64\"])]\n",
    "# cat_list=[i for i in df_filtered.select_dtypes(\"object\")]\n",
    "\n",
    "# k=1\n",
    "# plt.tight_layout()\n",
    "# plt.figure(figsize=(12,16))\n",
    "\n",
    "# for i in df_filtered.loc[:,num_list]:\n",
    "#     plt.subplot(4,2,k)\n",
    "#     sns.histplot(df_filtered[i], kde=True)\n",
    "#     k+=1"
   ]
  },
  {
   "cell_type": "code",
   "execution_count": 34,
   "id": "037c87c7-929f-4035-b58a-0435a62006b1",
   "metadata": {},
   "outputs": [],
   "source": [
    "# #sns.lineplot(x=df_filtered.dist,y=df_filtered[\"Time_taken(min)\"],data=df_filtered)\n",
    "\n",
    "# plt.tight_layout()\n",
    "# plt.figure(figsize=(14,4))\n",
    "\n",
    "# plt.subplot(1,2,1)\n",
    "# plt.hist(df_filtered['Time_taken(min)'],color = 'Orange')\n",
    "# plt.xlabel('Time Taken in minutes')\n",
    "# plt.ylabel('Frequency')\n",
    "# plt.title(\"Histogram of Delivery Time Distribution\")\n",
    "\n",
    "\n",
    "# # fig, ax= plt.subplots()\n",
    "\n",
    "# plt.subplot(1,2,2)\n",
    "# plt.hist(df_filtered['dist'],color = 'Orange')\n",
    "# plt.xlabel('Distance in kilometers')\n",
    "# plt.ylabel('Frequency')\n",
    "# plt.title(\"Histogram of Distance Distribution\")\n"
   ]
  },
  {
   "cell_type": "code",
   "execution_count": 35,
   "id": "5c86526f-d6bf-4349-b8cf-69b4d69829fe",
   "metadata": {},
   "outputs": [],
   "source": [
    "# fig,axes = plt.subplots(1,1, figsize=(14,4))\n",
    "# plt.xlabel('Time Taken (min)')\n",
    "# plt.ylabel('Distance (km)')\n",
    "# sns.lineplot(x = df_filtered[\"Time_taken(min)\"], y = df_filtered['dist'], data = df_filtered)"
   ]
  },
  {
   "cell_type": "code",
   "execution_count": 36,
   "id": "04fcc32b-c5ff-4b22-b903-ad81eb066786",
   "metadata": {},
   "outputs": [],
   "source": [
    "# fig,axes = plt.subplots(3,1, figsize=(15,15))\n",
    "\n",
    "# sns.boxplot(data=df_filtered,x = 'Weatherconditions', y ='Time_taken(min)', ax=axes[0], palette=\"Blues\")\n",
    "# sns.boxplot(data=df_filtered,x ='Road_traffic_density', y='Time_taken(min)', ax=axes[1], palette=\"Reds\")\n",
    "# sns.boxplot(data=df_filtered,x='Time_taken(min)', y ='dist', ax=axes[2], palette=\"Oranges\")"
   ]
  },
  {
   "cell_type": "code",
   "execution_count": 37,
   "id": "bd01db1b-a1c3-47c8-8c75-4b289ebed71a",
   "metadata": {},
   "outputs": [],
   "source": [
    "# df_filtered.describe().T"
   ]
  },
  {
   "cell_type": "code",
   "execution_count": 38,
   "id": "cb1e7723-b493-4183-89c7-b5e91ba80aab",
   "metadata": {},
   "outputs": [],
   "source": [
    "# print(\"Training Columns: \", train_df.columns)"
   ]
  },
  {
   "cell_type": "code",
   "execution_count": 39,
   "id": "10a61590-171c-4a50-bad9-c31a3a2d7f23",
   "metadata": {},
   "outputs": [],
   "source": [
    "X = train_df.drop(\"Time_taken(min)\",axis=1)\n",
    "Y = train_df[\"Time_taken(min)\"]\n",
    "\n",
    "X_train, X_test, y_train, y_test = train_test_split(X, Y, test_size=0.3, random_state=101)"
   ]
  },
  {
   "cell_type": "code",
   "execution_count": 40,
   "id": "25693f01-5792-4d1e-90f7-87bc876d560e",
   "metadata": {},
   "outputs": [],
   "source": [
    "def RSE(y_true, y_predicted):\n",
    "    y_true = np.array(y_true)\n",
    "    y_predicted = np.array(y_predicted)\n",
    "    RSS = np.sum(np.square(y_true - y_predicted))\n",
    "\n",
    "    rse = sqrt(RSS / (len(y_true) - 2))\n",
    "    return rse"
   ]
  },
  {
   "cell_type": "code",
   "execution_count": 41,
   "id": "9565c23f-9ae1-42e7-8938-8e56d36e5545",
   "metadata": {},
   "outputs": [
    {
     "name": "stdout",
     "output_type": "stream",
     "text": [
      "[LightGBM] [Info] Auto-choosing row-wise multi-threading, the overhead of testing was 0.000622 seconds.\n",
      "You can set `force_row_wise=true` to remove the overhead.\n",
      "And if memory is not enough, you can set `force_col_wise=true`.\n",
      "[LightGBM] [Info] Total Bins 306\n",
      "[LightGBM] [Info] Number of data points in the train set: 31867, number of used features: 7\n",
      "[LightGBM] [Info] Start training from score 26.286189\n"
     ]
    }
   ],
   "source": [
    "#models=[LinearRegression(),RandomForestRegressor(n_estimators=42,n_jobs=-1),AdaBoostRegressor(),KNeighborsRegressor(),DecisionTreeRegressor(),GradientBoostingRegressor(),XGBRegressor(),LGBMRegressor()]\n",
    "#model_names=[\"LinearRegression\",\"RandomForestRegressor\",\"AdaBoostRegressor\",\"KNeighborsRegressor\",\"DecisionTreeRegressor\",\"GradientBoostingRegressor\",\"XGBRegressor\",\"LGBMRegressor\"]\n",
    "\n",
    "models=[LGBMRegressor()]\n",
    "model_names=[\"LGBMRegressor\"]\n",
    "\n",
    "MSE=[]\n",
    "r_2=[]\n",
    "RSE_ = []\n",
    "accuracy = []\n",
    "RMSE = []\n",
    "\n",
    "for model in range (len(models)):\n",
    "    model=models[model]\n",
    "    model.fit(X_train,y_train)\n",
    "    y_pre=model.predict(X_test)\n",
    "    MSE.append(round(mean_squared_error(y_true=y_test,y_pred=y_pre),5))\n",
    "    r_2.append(r2_score(y_true=y_test,y_pred=y_pre))\n",
    "    RSE_.append(round(RSE(y_test,y_pre),5))\n",
    "    accuracy.append((model.score(X_test,y_test))*100)\n",
    "    RMSE.append(sqrt(mean_squared_error(y_true=y_test,y_pred=y_pre)))\n",
    "d=pd.DataFrame({'Modelling Name':model_names,'MSE':MSE,\"R_2\":r_2,\"RSE\":RSE_,\"Accuracy\":accuracy,\"RMSE\":RMSE})\n",
    "# d"
   ]
  },
  {
   "cell_type": "code",
   "execution_count": 42,
   "id": "616953f4-26f9-4dc1-916c-bab04439c3d1",
   "metadata": {},
   "outputs": [],
   "source": [
    "predictions = models[0].predict(X_test)\n",
    "# predictions"
   ]
  },
  {
   "cell_type": "code",
   "execution_count": 43,
   "id": "8e450f89-6465-4f7a-8665-201ade05c0d1",
   "metadata": {},
   "outputs": [],
   "source": [
    "# fig, ax = plt.subplots()\n",
    "\n",
    "# x_min, x_max = 9.0, 55.0\n",
    "# y_min, y_max = 9.0, 55.0\n",
    "# ax.set_ylim(y_min, y_max)\n",
    "# ax.set_xlim(x_min, x_max)\n",
    "\n",
    "# ax.set_xlabel('y_test  = actual values', fontsize=12, labelpad=1)\n",
    "# ax.set_ylabel('y_pred = predicted values', fontsize=12)\n",
    "# plt.scatter(y_test, predictions)\n"
   ]
  },
  {
   "cell_type": "code",
   "execution_count": 44,
   "id": "8b980dd7-2399-4560-91c8-fde378396554",
   "metadata": {},
   "outputs": [],
   "source": [
    "# sns.histplot((y_test-predictions), kde=True)"
   ]
  },
  {
   "cell_type": "code",
   "execution_count": 45,
   "id": "ccaa16c3-5fa9-4e83-951c-f840f4544d60",
   "metadata": {},
   "outputs": [],
   "source": [
    "# fig, ax = plt.subplots()\n",
    "# x_min, x_max = 10.0, 50.0\n",
    "# y_min, y_max = 10.0, 50.0\n",
    "# m = 4 # margin of error\n",
    "# x = np.linspace(x_min, x_max, 50)\n",
    "# ax.set_ylim(y_min, y_max)\n",
    "# ax.set_xlim(x_min, x_max)\n",
    "\n",
    "# plt.plot(x, x, 'g', linewidth=3)\n",
    "# plt.scatter(y_test, predictions, color=\"black\")\n",
    "# ax.fill_between(x, x - m, x + m, alpha=0.4)\n",
    "\n",
    "# ax.set_xlabel('y_test  = actual values', fontsize=8, labelpad=1)\n",
    "# ax.set_ylabel('y_pre(d = predicted values', fontsize=8)\n",
    "# plt.figtext(0.5, -0.06, \"Black dots = actual values paired with predicted values. \\n \\\n",
    "#     green line = when predicted values equal actual values. \\n \\\n",
    "#     blue area = margin of error: 4 (min)\", wrap=True, horizontalalignment='center' );"
   ]
  },
  {
   "cell_type": "code",
   "execution_count": 48,
   "id": "b8672536-1511-43ef-81b3-d34dfb416d65",
   "metadata": {},
   "outputs": [
    {
     "name": "stdout",
     "output_type": "stream",
     "text": [
      "\u001b[1mEnter parameters and make a prediction:\u001b[0m\n"
     ]
    },
    {
     "data": {
      "application/vnd.jupyter.widget-view+json": {
       "model_id": "12fe23b5bcb749da87da95565f7e1f40",
       "version_major": 2,
       "version_minor": 0
      },
      "text/plain": [
       "VBox(children=(Dropdown(description='Driver Rating:', index=4, options=(('1', 1), ('2', 2), ('3', 3), ('4', 4)…"
      ]
     },
     "execution_count": 48,
     "metadata": {},
     "output_type": "execute_result"
    }
   ],
   "source": [
    "person_rating = widgets.Dropdown(\n",
    "    options=[('1', 1), ('2', 2), ('3', 3), ('4', 4), ('5', 5), ('6', 6)],\n",
    "    value=5,\n",
    "    description='Driver Rating:',\n",
    "    style= {'description_width': '100px'}\n",
    ")\n",
    "weather_cond = widgets.Dropdown(\n",
    "    options=[('Sunny', 0), ('Cloudy', 1), ('Windy', 2), ('Fog', 3), ('Stormy', 4), ('Sandstorm', 5)],\n",
    "    value=0,\n",
    "    description='Weather:',\n",
    "    style= {'description_width': '100px'}\n",
    ")\n",
    "traffic = widgets.FloatSlider(description='Traffic Density:', min=0, max=3, step=1, style= {'description_width': '100px'})\n",
    "distance = widgets.FloatSlider(description='Distance (km):', min=1.0, max=20.0, step=0.1, style= {'description_width': '100px'})\n",
    "\n",
    "#A button for the user to get predictions using input valus. \n",
    "button_predict = widgets.Button(description='Predict Delivery Time' )\n",
    "button_clear = widgets.Button(description='Clear Output')\n",
    "button_ouput = widgets.Output()\n",
    "\n",
    "#Defines what happens when you click the button \n",
    "def on_click_predict(b):\n",
    "    data = {\n",
    "        \"Delivery_person_Ratings\": [person_rating.value],\n",
    "        \"Weatherconditions\": [weather_cond.value],\n",
    "        \"Road_traffic_density\": [traffic.value],\n",
    "        \"Vehicle_condition\": [0],\n",
    "        \"Type_of_vehicle\": [0],\n",
    "        \"multiple_deliveries\": [0],\n",
    "        \"dist\": [distance.value]\n",
    "    }\n",
    "    udf = pd.DataFrame(data)\n",
    "    pred = models[0].predict(udf)\n",
    "    with button_ouput:\n",
    "        print('Predicted Delivery Time (minutes) = ' + str(pred))\n",
    "\n",
    "def on_click_clear(b):\n",
    "    button_ouput.clear_output()\n",
    "\n",
    "button_predict.on_click(on_click_predict)\n",
    "button_clear.on_click(on_click_clear)\n",
    "\n",
    "#Displays the text boxes and button inside a VBox \n",
    "print('\\033[1m' + 'Enter parameters and make a prediction:' + '\\033[0m')\n",
    "widgets.VBox([person_rating, weather_cond, traffic, distance, button_predict, button_clear, button_ouput])\n"
   ]
  },
  {
   "cell_type": "code",
   "execution_count": null,
   "id": "fa45fa45-7e16-49b0-bd8f-f0534134f88e",
   "metadata": {},
   "outputs": [],
   "source": []
  }
 ],
 "metadata": {
  "kernelspec": {
   "display_name": "Python 3 (ipykernel)",
   "language": "python",
   "name": "python3"
  },
  "language_info": {
   "codemirror_mode": {
    "name": "ipython",
    "version": 3
   },
   "file_extension": ".py",
   "mimetype": "text/x-python",
   "name": "python",
   "nbconvert_exporter": "python",
   "pygments_lexer": "ipython3",
   "version": "3.8.10"
  }
 },
 "nbformat": 4,
 "nbformat_minor": 5
}
